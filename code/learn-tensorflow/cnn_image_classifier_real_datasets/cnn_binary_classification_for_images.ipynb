{
 "cells": [
  {
   "cell_type": "markdown",
   "id": "95389fcb-0bba-4b68-a3ff-ae325ba720a9",
   "metadata": {},
   "source": [
    "# Convolutional Neural Network Binary Classification for Images"
   ]
  },
  {
   "cell_type": "code",
   "execution_count": 2,
   "id": "81df8e72-37ff-487e-8279-c4931dcccecc",
   "metadata": {},
   "outputs": [],
   "source": [
    "import numpy as np\n",
    "import matplotlib\n",
    "import matplotlib.pyplot as plt\n",
    "import urllib\n",
    "import zipfile\n",
    "\n",
    "import tensorflow as tf\n",
    "import tensorflow_addons as tf_addons\n",
    "import tensorflow_datasets as tf_datasets\n",
    "\n",
    "# numpy: 1.23.2\n",
    "# matplotlib: 3.5.3\n",
    "# tensorflow: 2.9.1\n",
    "# tensorflow_addons: 0.17.1\n",
    "# tensorflow_datasets: 4.6.0"
   ]
  },
  {
   "cell_type": "code",
   "execution_count": 4,
   "id": "4a2c5c8e-a6ea-4f58-ba21-54d05cd90faa",
   "metadata": {},
   "outputs": [],
   "source": [
    "PATH_TO_DATA = '/Users/tiravat/Datasets/images/horses_and_humans/'\n",
    "\n",
    "EPOCHS = 10\n",
    "LOSS = 'binary_crossentropy'\n",
    "OPTIMIZER = 'adam'\n",
    "METRICS = ['accuracy']\n",
    "\n",
    "HUMAN = 'Human'\n",
    "HORSE = 'Horse'"
   ]
  },
  {
   "cell_type": "code",
   "execution_count": 5,
   "id": "26ebb9be-9546-482d-8b2e-2971d6b92847",
   "metadata": {},
   "outputs": [],
   "source": [
    "# Download datasets\n",
    "\n",
    "\n",
    "# prepare datasets\n",
    "\n"
   ]
  },
  {
   "cell_type": "code",
   "execution_count": 53,
   "id": "43524c34-6cd2-4a5d-8812-a801a396e85d",
   "metadata": {},
   "outputs": [],
   "source": [
    "# model = tf.keras.Sequential([\n",
    "#     tf.keras.layers.Conv2D(16, (3,3), activation=tf.keras.activations.relu, input_shape=(300, 300, 1)),\n",
    "#     tf.keras.layers.Flatten(),\n",
    "#     tf.keras.layers.Dense(units=1, activation=tf.keras.activations.sigmoid)\n",
    "# ])"
   ]
  },
  {
   "cell_type": "code",
   "execution_count": 54,
   "id": "b5c4b178-ab34-4d27-97a5-4ffcc1dbce4d",
   "metadata": {},
   "outputs": [],
   "source": [
    "#model.compile(loss=LOSS, optimizer=OPTIMIZER, metrics=METRICS)"
   ]
  },
  {
   "cell_type": "code",
   "execution_count": null,
   "id": "67a2cc41-dfe2-417f-a444-7f98ab699ef9",
   "metadata": {},
   "outputs": [],
   "source": [
    "# model.summary()"
   ]
  },
  {
   "cell_type": "code",
   "execution_count": 42,
   "id": "3e91ee3d-be7a-4f1a-8b96-41804fb782f5",
   "metadata": {},
   "outputs": [],
   "source": [
    "# history = model.fit(x, y)"
   ]
  },
  {
   "cell_type": "code",
   "execution_count": 43,
   "id": "8999dca5-eeed-4493-a62d-d290c9d1548f",
   "metadata": {},
   "outputs": [],
   "source": [
    "# scrore = model.evaluate(x, y)"
   ]
  },
  {
   "cell_type": "code",
   "execution_count": null,
   "id": "f5287383-2e5d-4dcc-9004-963e23747d49",
   "metadata": {},
   "outputs": [],
   "source": []
  }
 ],
 "metadata": {
  "kernelspec": {
   "display_name": "Python 3",
   "language": "python",
   "name": "python3"
  },
  "language_info": {
   "codemirror_mode": {
    "name": "ipython",
    "version": 3
   },
   "file_extension": ".py",
   "mimetype": "text/x-python",
   "name": "python",
   "nbconvert_exporter": "python",
   "pygments_lexer": "ipython3",
   "version": "3.8.8"
  },
  "vscode": {
   "interpreter": {
    "hash": "aee8b7b246df8f9039afb4144a1f6fd8d2ca17a180786b69acc140d282b71a49"
   }
  }
 },
 "nbformat": 4,
 "nbformat_minor": 5
}
