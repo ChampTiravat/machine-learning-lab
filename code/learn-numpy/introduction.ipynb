{
 "cells": [
  {
   "cell_type": "markdown",
   "id": "431a217e-a871-40be-a974-b8e8135db8c9",
   "metadata": {},
   "source": [
    "# Introduction to Numpy"
   ]
  },
  {
   "cell_type": "code",
   "execution_count": 11,
   "id": "e4b0096a-2f1b-4baf-9bf2-3399dd1e7434",
   "metadata": {},
   "outputs": [],
   "source": [
    "import numpy as np\n",
    "import matplotlib.pyplot as plt\n",
    "import matplotlib"
   ]
  },
  {
   "cell_type": "code",
   "execution_count": 12,
   "id": "a2b1862d-d76b-4b21-8b95-5fe4e84b522a",
   "metadata": {},
   "outputs": [
    {
     "name": "stdout",
     "output_type": "stream",
     "text": [
      "numpy:  1.20.1\n",
      "matplotlib:  3.3.4\n"
     ]
    }
   ],
   "source": [
    "def main():\n",
    "  print('numpy: ', np.__version__)\n",
    "  print('matplotlib: ', matplotlib.__version__)\n",
    "\n",
    "if __name__ == '__main__':\n",
    "  main()"
   ]
  },
  {
   "cell_type": "code",
   "execution_count": null,
   "id": "b13059fd",
   "metadata": {},
   "outputs": [],
   "source": []
  }
 ],
 "metadata": {
  "interpreter": {
   "hash": "021641ab38c3cdbc9b802269c680898d02e29e6a0cc0d76bee3e3ad44d21bd34"
  },
  "kernelspec": {
   "display_name": "Python 3.8.8 ('base')",
   "language": "python",
   "name": "python3"
  },
  "language_info": {
   "codemirror_mode": {
    "name": "ipython",
    "version": 3
   },
   "file_extension": ".py",
   "mimetype": "text/x-python",
   "name": "python",
   "nbconvert_exporter": "python",
   "pygments_lexer": "ipython3",
   "version": "3.8.8"
  }
 },
 "nbformat": 4,
 "nbformat_minor": 5
}
